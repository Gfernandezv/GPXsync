{
  "cells": [
    {
      "cell_type": "markdown",
      "metadata": {
        "id": "view-in-github",
        "colab_type": "text"
      },
      "source": [
        "<a href=\"https://colab.research.google.com/github/Gfernandezv/GPXsync/blob/main/GPX_sync.ipynb\" target=\"_parent\"><img src=\"https://colab.research.google.com/assets/colab-badge.svg\" alt=\"Open In Colab\"/></a>"
      ]
    },
    {
      "cell_type": "markdown",
      "metadata": {
        "id": "6FAevmJmRhLC"
      },
      "source": [
        "Instalación de las dependencias."
      ]
    },
    {
      "cell_type": "code",
      "execution_count": null,
      "metadata": {
        "id": "bGdQm8HmRh8K"
      },
      "outputs": [],
      "source": [
        "!pip install gpxpy\n",
        "!pip install folium\n",
        "!pip install ipywidgets\n",
        "!pip install ipyleaflet\n",
        "!apt-get install -y ffmpeg"
      ]
    },
    {
      "cell_type": "markdown",
      "metadata": {
        "id": "7QtiGhK4R1Lg"
      },
      "source": [
        "cargar archivo de mapa"
      ]
    },
    {
      "cell_type": "code",
      "execution_count": null,
      "metadata": {
        "id": "6Kj6e7W_R4ps"
      },
      "outputs": [],
      "source": [
        "from google.colab import files\n",
        "\n",
        "uploaded = files.upload()\n",
        "GPX_name = list(uploaded.keys())[0]\n",
        "GPX_content = uploaded[GPX_name]\n",
        "gpx_file_path = GPX_name\n"
      ]
    },
    {
      "cell_type": "markdown",
      "metadata": {
        "id": "UgSrQGN6UHp5"
      },
      "source": [
        "Comenzar con el analisis, cargar el mapa"
      ]
    },
    {
      "cell_type": "code",
      "execution_count": null,
      "metadata": {
        "id": "wUWH5kMOUKL3"
      },
      "outputs": [],
      "source": [
        "import gpxpy\n",
        "from ipyleaflet import Map, CircleMarker, basemaps, FullScreenControl\n",
        "from ipywidgets import IntSlider, VBox, Layout, HTML\n",
        "from IPython.display import display\n",
        "\n",
        "gpx_content = GPX_content.decode('utf-8')\n",
        "gpx = gpxpy.parse(gpx_content)\n",
        "\n",
        "# Leer las coordenadas de cada punto\n",
        "coords = [(point.latitude, point.longitude) for point in gpx.tracks[0].segments[0].points]\n",
        "timestamps = [point.time for point in gpx.tracks[0].segments[0].points]\n",
        "\n",
        "# mapa con ipyleaflet\n",
        "m = Map(center=coords[0], zoom=16, basemap=basemaps.Esri.WorldStreetMap, controls=[FullScreenControl()])\n",
        "\n",
        "# Crear marcadores y añadirlos al mapa\n",
        "markers = [CircleMarker(location=coord, color=\"red\", fill_color=\"red\", radius=2) for coord in coords]\n",
        "for marker in markers:\n",
        "    marker.visible = False\n",
        "    m.add_layer(marker)\n",
        "\n",
        "# Crear widget slider\n",
        "slider_layout = Layout(width='100%')\n",
        "slider = IntSlider(min=0, max=len(coords) - 1, step=1, value=0, description='Punto', layout=slider_layout)\n",
        "\n",
        "# Widget HTML para mostrar información del punto\n",
        "info_widget = HTML()\n",
        "\n",
        "# Función para actualizar el mapa y la información del punto\n",
        "def update_map_and_info(change):\n",
        "    index = change['new']\n",
        "    for i, marker in enumerate(markers):\n",
        "        marker.visible = i == index\n",
        "        marker.color = \"blue\" if i == index else \"red\"\n",
        "    m.center = markers[index].location\n",
        "\n",
        "    # Mostrar información del punto seleccionado\n",
        "    timestamp = timestamps[index]\n",
        "    info_widget.value = f'<b>Fecha y Hora:</b> {timestamp.strftime(\"%Y-%m-%d %H:%M:%S\")}<br><b>Coordenadas:</b> {markers[index].location}'\n",
        "\n",
        "# Asignar la función al evento de cambio del slider\n",
        "slider.observe(update_map_and_info, 'value')\n",
        "\n",
        "# Mostrar el mapa, el slider y la información del punto\n",
        "display(VBox([m, slider, info_widget]))\n",
        "\n"
      ]
    },
    {
      "cell_type": "markdown",
      "source": [
        "Selecciona el punto de inicio del video utilizando la barra.\n",
        "Carga el video en google drive y modifica la linea de file_path.\n",
        "Luego ejecutar el codigo de la celda."
      ],
      "metadata": {
        "id": "SO4cXR6a3Fbo"
      }
    },
    {
      "cell_type": "code",
      "source": [
        "import os\n",
        "\n",
        "# Ruta al archivo en Colab\n",
        "file_path = '/content/video1.mp4'\n",
        "\n",
        "# Obtener la fecha y hora del punto seleccionado a través del slider\n",
        "index = slider.value\n",
        "timestamp = timestamps[index]\n",
        "\n",
        "# Obtener la marca de tiempo en segundos desde la época\n",
        "timestamp_seconds = timestamp.timestamp()\n",
        "\n",
        "# Establecer la marca de tiempo de modificación del archivo\n",
        "os.utime(file_path, (timestamp_seconds, timestamp_seconds))\n"
      ],
      "metadata": {
        "id": "dSsqgPxfFBFG"
      },
      "execution_count": null,
      "outputs": []
    },
    {
      "cell_type": "markdown",
      "source": [
        "Ejecutar la siguiente celda para confirmar que la fecha de modificación fue cambiada."
      ],
      "metadata": {
        "id": "Th5GuxqY3EO4"
      }
    },
    {
      "cell_type": "code",
      "source": [
        "import os\n",
        "\n",
        "# Ruta al archivo en Colab\n",
        "file_path = '/content/video1.mp4'\n",
        "\n",
        "# Obtener la fecha de modificación del archivo\n",
        "fecha_modificacion_timestamp = os.path.getmtime(file_path)\n",
        "\n",
        "# Convertir la marca de tiempo a un objeto datetime\n",
        "fecha_modificacion_datetime = datetime.fromtimestamp(fecha_modificacion_timestamp)\n",
        "\n",
        "# Imprimir la fecha de modificación\n",
        "print(f'Fecha de modificación del archivo: {fecha_modificacion_datetime.strftime(\"%Y-%m-%d %H:%M:%S\")}')\n",
        "\n"
      ],
      "metadata": {
        "colab": {
          "base_uri": "https://localhost:8080/"
        },
        "id": "f_QT2OezKbhT",
        "outputId": "e797d1c8-30c0-4047-87c1-e4865b8c9579"
      },
      "execution_count": null,
      "outputs": [
        {
          "output_type": "stream",
          "name": "stdout",
          "text": [
            "Fecha de modificación del archivo: 2023-12-11 22:02:50\n"
          ]
        }
      ]
    }
  ],
  "metadata": {
    "colab": {
      "provenance": [],
      "gpuType": "T4",
      "mount_file_id": "1SDF6OBmkKzZ9EdnOW1Ka3FjB3ipDVIlv",
      "authorship_tag": "ABX9TyNF09wSwWDH6wXR3gVzmewN",
      "include_colab_link": true
    },
    "kernelspec": {
      "display_name": "Python 3",
      "name": "python3"
    },
    "language_info": {
      "name": "python"
    },
    "accelerator": "GPU"
  },
  "nbformat": 4,
  "nbformat_minor": 0
}